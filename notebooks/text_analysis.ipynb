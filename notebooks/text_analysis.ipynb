{
 "cells": [
  {
   "cell_type": "code",
   "execution_count": 2,
   "id": "c582d5f5",
   "metadata": {},
   "outputs": [],
   "source": [
    "import pandas as pd\n",
    "import nltk\n",
    "from nltk.sentiment import SentimentIntensityAnalyzer"
   ]
  },
  {
   "cell_type": "code",
   "execution_count": 3,
   "id": "76ba812e",
   "metadata": {},
   "outputs": [],
   "source": [
    "df = pd.read_csv('../data/raw_analyst_ratings.csv')"
   ]
  },
  {
   "cell_type": "code",
   "execution_count": 4,
   "id": "3465cec8",
   "metadata": {},
   "outputs": [
    {
     "name": "stderr",
     "output_type": "stream",
     "text": [
      "[nltk_data] Downloading package vader_lexicon to\n",
      "[nltk_data]     C:\\Users\\user\\AppData\\Roaming\\nltk_data...\n",
      "[nltk_data]   Package vader_lexicon is already up-to-date!\n"
     ]
    },
    {
     "data": {
      "text/plain": [
       "True"
      ]
     },
     "execution_count": 4,
     "metadata": {},
     "output_type": "execute_result"
    }
   ],
   "source": [
    "nltk.download('vader_lexicon')"
   ]
  },
  {
   "cell_type": "code",
   "execution_count": 5,
   "id": "b57c43b6",
   "metadata": {},
   "outputs": [],
   "source": [
    "sia = SentimentIntensityAnalyzer()\n"
   ]
  },
  {
   "cell_type": "code",
   "execution_count": 6,
   "id": "3074ad74",
   "metadata": {},
   "outputs": [
    {
     "name": "stdout",
     "output_type": "stream",
     "text": [
      "Neutral: Stocks That Hit 52-Week Highs On Friday\n",
      "Neutral: Stocks That Hit 52-Week Highs On Wednesday\n",
      "Neutral: 71 Biggest Movers From Friday\n",
      "Neutral: 46 Stocks Moving In Friday's Mid-Day Session\n",
      "Positive: B of A Securities Maintains Neutral on Agilent Technologies, Raises Price Target to $88\n",
      "Negative: CFRA Maintains Hold on Agilent Technologies, Lowers Price Target to $85\n",
      "Neutral: UBS Maintains Neutral on Agilent Technologies, Raises Price Target to $87\n",
      "Positive: Agilent Technologies shares are trading higher after the company reported better-than-expected Q2 EPS and sales results.\n",
      "Negative: Wells Fargo Maintains Overweight on Agilent Technologies, Raises Price Target to $95\n",
      "Neutral: 10 Biggest Price Target Changes For Friday\n"
     ]
    }
   ],
   "source": [
    "for headline in df['headline'].head(10):\n",
    "    sentiment = sia.polarity_scores(headline)\n",
    "    compound_score = sentiment['compound']\n",
    "    \n",
    "    if compound_score > 0:\n",
    "        print(f\"Positive: {headline}\")\n",
    "    elif compound_score < 0:\n",
    "        print(f\"Negative: {headline}\")\n",
    "    else:\n",
    "        print(f\"Neutral: {headline}\")"
   ]
  },
  {
   "cell_type": "code",
   "execution_count": 6,
   "id": "704014f8",
   "metadata": {},
   "outputs": [],
   "source": [
    "import spacy\n",
    "from spacy.lang.en import English\n",
    "from spacy.matcher import PhraseMatcher"
   ]
  },
  {
   "cell_type": "code",
   "execution_count": 18,
   "id": "d09555f6",
   "metadata": {},
   "outputs": [],
   "source": [
    "nlp = spacy.load('en_core_web_sm')\n",
    "tokenizer = English().tokenizer\n"
   ]
  },
  {
   "cell_type": "code",
   "execution_count": 19,
   "id": "a462c7c4",
   "metadata": {},
   "outputs": [],
   "source": [
    "def extract_keywords(text):\n",
    "    doc = nlp(text)\n",
    "    \n",
    "    keywords = []\n",
    "    \n",
    "    for chunk in doc.noun_chunks:\n",
    "        keywords.append(chunk.text)\n",
    "    \n",
    "    topic_phrases = [\"FDA approval\", \"price target\"]\n",
    "    \n",
    "    matcher = PhraseMatcher(nlp.vocab)\n",
    "    patterns = [nlp(phrase) for phrase in topic_phrases]\n",
    "    matcher.add(\"TopicPhrases\", None, *patterns)\n",
    "    \n",
    "    matches = matcher(doc)\n",
    "    for match_id, start, end in matches:\n",
    "        matched_span = doc[start:end]\n",
    "        keywords.append(matched_span.text)\n",
    "    \n",
    "    return keywords"
   ]
  },
  {
   "cell_type": "code",
   "execution_count": 20,
   "id": "de941cd8",
   "metadata": {},
   "outputs": [
    {
     "name": "stdout",
     "output_type": "stream",
     "text": [
      "Stocks That Hit 52-Week Highs On Friday\n",
      "Stocks That Hit 52-Week Highs On Wednesday\n",
      "71 Biggest Movers From Friday\n",
      "46 Stocks Moving In Friday's Mid-Day Session\n",
      "B of A Securities Maintains Neutral on Agilent Technologies, Raises Price Target to $88\n"
     ]
    }
   ],
   "source": [
    "df['keywords'] = df[\"headline\"].head().apply(extract_keywords)"
   ]
  },
  {
   "cell_type": "code",
   "execution_count": 17,
   "id": "d849a627",
   "metadata": {},
   "outputs": [
    {
     "name": "stdout",
     "output_type": "stream",
     "text": [
      "0                      [Stocks, That, 52-Week Highs, Friday]\n",
      "1                   [Stocks, That, 52-Week Highs, Wednesday]\n",
      "2                                [71 Biggest Movers, Friday]\n",
      "3                      [46 Stocks, Friday's Mid-Day Session]\n",
      "4          [B, A Securities Maintains Neutral, Agilent Te...\n",
      "                                 ...                        \n",
      "1407323                                                  NaN\n",
      "1407324                                                  NaN\n",
      "1407325                                                  NaN\n",
      "1407326                                                  NaN\n",
      "1407327                                                  NaN\n",
      "Name: keywords, Length: 1407328, dtype: object\n"
     ]
    }
   ],
   "source": [
    "print(df['keywords'])"
   ]
  },
  {
   "cell_type": "code",
   "execution_count": null,
   "id": "755689cf",
   "metadata": {},
   "outputs": [],
   "source": []
  }
 ],
 "metadata": {
  "kernelspec": {
   "display_name": "Python 3 (ipykernel)",
   "language": "python",
   "name": "python3"
  },
  "language_info": {
   "codemirror_mode": {
    "name": "ipython",
    "version": 3
   },
   "file_extension": ".py",
   "mimetype": "text/x-python",
   "name": "python",
   "nbconvert_exporter": "python",
   "pygments_lexer": "ipython3",
   "version": "3.11.0"
  }
 },
 "nbformat": 4,
 "nbformat_minor": 5
}
