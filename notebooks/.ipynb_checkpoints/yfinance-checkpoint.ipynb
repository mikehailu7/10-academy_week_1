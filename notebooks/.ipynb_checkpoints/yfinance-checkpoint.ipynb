{
 "cells": [
  {
   "cell_type": "code",
   "execution_count": 2,
   "id": "aca0dfaa",
   "metadata": {},
   "outputs": [],
   "source": [
    "#Task Two-yfinance\n",
    "import pandas as pd"
   ]
  },
  {
   "cell_type": "code",
   "execution_count": 2,
   "id": "f2a6f991",
   "metadata": {},
   "outputs": [],
   "source": [
    "df = pd.read_csv('../data/raw_analyst_ratings.csv')"
   ]
  },
  {
   "cell_type": "code",
   "execution_count": 3,
   "id": "0366e09a",
   "metadata": {},
   "outputs": [],
   "source": [
    "df = df[['date', 'stock']]"
   ]
  },
  {
   "cell_type": "code",
   "execution_count": 4,
   "id": "71a7a29a",
   "metadata": {},
   "outputs": [
    {
     "data": {
      "text/html": [
       "<div>\n",
       "<style scoped>\n",
       "    .dataframe tbody tr th:only-of-type {\n",
       "        vertical-align: middle;\n",
       "    }\n",
       "\n",
       "    .dataframe tbody tr th {\n",
       "        vertical-align: top;\n",
       "    }\n",
       "\n",
       "    .dataframe thead th {\n",
       "        text-align: right;\n",
       "    }\n",
       "</style>\n",
       "<table border=\"1\" class=\"dataframe\">\n",
       "  <thead>\n",
       "    <tr style=\"text-align: right;\">\n",
       "      <th></th>\n",
       "      <th>date</th>\n",
       "      <th>stock</th>\n",
       "    </tr>\n",
       "  </thead>\n",
       "  <tbody>\n",
       "    <tr>\n",
       "      <th>0</th>\n",
       "      <td>2020-06-05 10:30:54-04:00</td>\n",
       "      <td>A</td>\n",
       "    </tr>\n",
       "    <tr>\n",
       "      <th>1</th>\n",
       "      <td>2020-06-03 10:45:20-04:00</td>\n",
       "      <td>A</td>\n",
       "    </tr>\n",
       "    <tr>\n",
       "      <th>2</th>\n",
       "      <td>2020-05-26 04:30:07-04:00</td>\n",
       "      <td>A</td>\n",
       "    </tr>\n",
       "    <tr>\n",
       "      <th>3</th>\n",
       "      <td>2020-05-22 12:45:06-04:00</td>\n",
       "      <td>A</td>\n",
       "    </tr>\n",
       "    <tr>\n",
       "      <th>4</th>\n",
       "      <td>2020-05-22 11:38:59-04:00</td>\n",
       "      <td>A</td>\n",
       "    </tr>\n",
       "  </tbody>\n",
       "</table>\n",
       "</div>"
      ],
      "text/plain": [
       "                        date stock\n",
       "0  2020-06-05 10:30:54-04:00     A\n",
       "1  2020-06-03 10:45:20-04:00     A\n",
       "2  2020-05-26 04:30:07-04:00     A\n",
       "3  2020-05-22 12:45:06-04:00     A\n",
       "4  2020-05-22 11:38:59-04:00     A"
      ]
     },
     "execution_count": 4,
     "metadata": {},
     "output_type": "execute_result"
    }
   ],
   "source": [
    "df.head()"
   ]
  },
  {
   "cell_type": "code",
   "execution_count": 5,
   "id": "63ac3540",
   "metadata": {},
   "outputs": [],
   "source": [
    "unique_values = df['stock'].unique()"
   ]
  },
  {
   "cell_type": "code",
   "execution_count": 6,
   "id": "ae657cac",
   "metadata": {},
   "outputs": [
    {
     "data": {
      "text/plain": [
       "array(['A', 'AA', 'AAC', ..., 'ZU', 'ZUMZ', 'ZX'], dtype=object)"
      ]
     },
     "execution_count": 6,
     "metadata": {},
     "output_type": "execute_result"
    }
   ],
   "source": [
    "unique_values"
   ]
  },
  {
   "cell_type": "code",
   "execution_count": 7,
   "id": "57936e5d",
   "metadata": {},
   "outputs": [],
   "source": [
    "df[\"date\"] = pd.DataFrame(df[\"date\"])"
   ]
  },
  {
   "cell_type": "code",
   "execution_count": 8,
   "id": "2ba247de",
   "metadata": {},
   "outputs": [],
   "source": [
    "df['date'] = pd.to_datetime(df['date'], utc=True)"
   ]
  },
  {
   "cell_type": "code",
   "execution_count": 9,
   "id": "6d5ee803",
   "metadata": {},
   "outputs": [],
   "source": [
    "grouped_data = df.groupby('stock')"
   ]
  },
  {
   "cell_type": "code",
   "execution_count": 10,
   "id": "1de4144c",
   "metadata": {},
   "outputs": [],
   "source": [
    "earliest_dates = grouped_data['date'].min()\n",
    "latest_dates = grouped_data['date'].max()"
   ]
  },
  {
   "cell_type": "code",
   "execution_count": 11,
   "id": "a9438dae",
   "metadata": {},
   "outputs": [
    {
     "data": {
      "text/plain": [
       "stock\n",
       "A      2009-04-29 00:00:00+00:00\n",
       "AA     2009-08-10 00:00:00+00:00\n",
       "AAC    2010-03-25 00:00:00+00:00\n",
       "AADR   2013-03-05 19:42:46+00:00\n",
       "AAL    2011-05-16 00:00:00+00:00\n",
       "                  ...           \n",
       "ZTR    2009-08-10 00:00:00+00:00\n",
       "ZTS    2013-01-17 00:00:00+00:00\n",
       "ZU     2013-11-14 00:00:00+00:00\n",
       "ZUMZ   2009-11-16 00:00:00+00:00\n",
       "ZX     2011-05-12 00:00:00+00:00\n",
       "Name: date, Length: 6204, dtype: datetime64[ns, UTC]"
      ]
     },
     "execution_count": 11,
     "metadata": {},
     "output_type": "execute_result"
    }
   ],
   "source": [
    "earliest_dates"
   ]
  },
  {
   "cell_type": "code",
   "execution_count": 12,
   "id": "fef49216",
   "metadata": {},
   "outputs": [
    {
     "data": {
      "text/plain": [
       "stock\n",
       "A      2020-06-05 14:30:54+00:00\n",
       "AA     2020-06-09 14:52:15+00:00\n",
       "AAC    2019-10-25 20:09:59+00:00\n",
       "AADR   2013-09-06 19:06:35+00:00\n",
       "AAL    2020-06-10 15:21:01+00:00\n",
       "                  ...           \n",
       "ZTR    2020-03-19 14:49:42+00:00\n",
       "ZTS    2020-06-11 14:22:31+00:00\n",
       "ZU     2020-01-09 18:34:23+00:00\n",
       "ZUMZ   2020-06-05 11:24:15+00:00\n",
       "ZX     2018-06-15 13:01:12+00:00\n",
       "Name: date, Length: 6204, dtype: datetime64[ns, UTC]"
      ]
     },
     "execution_count": 12,
     "metadata": {},
     "output_type": "execute_result"
    }
   ],
   "source": [
    "latest_dates"
   ]
  },
  {
   "cell_type": "code",
   "execution_count": 4,
   "id": "9c3d8ef6",
   "metadata": {},
   "outputs": [],
   "source": [
    "import yfinance as yf"
   ]
  },
  {
   "cell_type": "code",
   "execution_count": 5,
   "id": "eec22f56",
   "metadata": {},
   "outputs": [],
   "source": [
    "stock_df = pd.DataFrame()"
   ]
  }
 ],
 "metadata": {
  "kernelspec": {
   "display_name": "Python 3 (ipykernel)",
   "language": "python",
   "name": "python3"
  },
  "language_info": {
   "codemirror_mode": {
    "name": "ipython",
    "version": 3
   },
   "file_extension": ".py",
   "mimetype": "text/x-python",
   "name": "python",
   "nbconvert_exporter": "python",
   "pygments_lexer": "ipython3",
   "version": "3.12.3"
  }
 },
 "nbformat": 4,
 "nbformat_minor": 5
}
